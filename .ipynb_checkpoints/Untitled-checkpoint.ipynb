{
 "cells": [
  {
   "cell_type": "code",
   "execution_count": 16,
   "id": "aa9ca167",
   "metadata": {},
   "outputs": [],
   "source": [
    "import glob\n",
    "import rasterio\n",
    "from rasterio.plot import show\n",
    "\n",
    "import os\n",
    "import matplotlib.pyplot as plt\n",
    "%matplotlib inline\n",
    "import seaborn as sbn\n",
    "\n",
    "import numpy as np\n",
    "import tensorflow as tf\n",
    "import tensorflow.python.keras\n",
    "\n",
    "import itertools\n",
    "from sklearn.metrics import confusion_matrix\n"
   ]
  },
  {
   "cell_type": "code",
   "execution_count": 17,
   "id": "fbcea75b",
   "metadata": {},
   "outputs": [],
   "source": [
    "#def variables\n",
    "\n",
    "batch_size = 32\n",
    "img_height = 64\n",
    "img_width = 64\n",
    "validation_split=0.2\n",
    "rescale=1.0/255"
   ]
  },
  {
   "cell_type": "code",
   "execution_count": 20,
   "id": "4d91a739",
   "metadata": {},
   "outputs": [
    {
     "name": "stdout",
     "output_type": "stream",
     "text": [
      "Found 27000 files belonging to 1 classes.\n"
     ]
    }
   ],
   "source": [
    "dataset = tf.keras.preprocessing.image.ImageDataGenerator(validation_split=validation_split, rescale=rescale)\n",
    "dataset = tf.keras.preprocessing.image_dataset_from_directory(r'C:\\Users\\tomar\\OneDrive\\Desktop\\GitHub\\Res-Net-Demo', image_size=(img_height, img_width), batch_size=batch_size)"
   ]
  },
  {
   "cell_type": "code",
   "execution_count": 22,
   "id": "8f1ba73e",
   "metadata": {},
   "outputs": [
    {
     "name": "stdout",
     "output_type": "stream",
     "text": [
      "Found 21600 images belonging to 3 classes.\n"
     ]
    }
   ],
   "source": [
    "train_set = datagen.flow_from_directory(batch_size=batch_size, directory=r'C:\\Users\\tomar\\OneDrive\\Desktop\\GitHub\\Res-Net-Demo', \n",
    "                                        shuffle=True,\n",
    "                                           target_size=(img_height, img_width),\n",
    "                                           subset=\"training\",\n",
    "                                           class_mode='categorical')"
   ]
  },
  {
   "cell_type": "code",
   "execution_count": 23,
   "id": "42f25f8a",
   "metadata": {},
   "outputs": [
    {
     "name": "stdout",
     "output_type": "stream",
     "text": [
      "Found 5400 images belonging to 3 classes.\n"
     ]
    }
   ],
   "source": [
    "test_set = datagen.flow_from_directory(batch_size=batch_size, directory=r'C:\\Users\\tomar\\OneDrive\\Desktop\\GitHub\\Res-Net-Demo', \n",
    "                                        shuffle=True,\n",
    "                                           target_size=(img_height, img_width),\n",
    "                                           subset=\"validation\",\n",
    "                                           class_mode='categorical')"
   ]
  },
  {
   "cell_type": "code",
   "execution_count": null,
   "id": "f4a27108",
   "metadata": {},
   "outputs": [],
   "source": []
  }
 ],
 "metadata": {
  "kernelspec": {
   "display_name": "Python 3 (ipykernel)",
   "language": "python",
   "name": "python3"
  },
  "language_info": {
   "codemirror_mode": {
    "name": "ipython",
    "version": 3
   },
   "file_extension": ".py",
   "mimetype": "text/x-python",
   "name": "python",
   "nbconvert_exporter": "python",
   "pygments_lexer": "ipython3",
   "version": "3.11.5"
  }
 },
 "nbformat": 4,
 "nbformat_minor": 5
}
